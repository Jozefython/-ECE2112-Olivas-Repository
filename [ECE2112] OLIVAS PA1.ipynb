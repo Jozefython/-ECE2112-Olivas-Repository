{
 "cells": [
  {
   "cell_type": "code",
   "execution_count": null,
   "id": "89cfab31-8eb8-4a33-beaa-e05d1f1c66ef",
   "metadata": {},
   "outputs": [],
   "source": [
    "#KAROL JOZEF S. OLIVAS | 2ECE-C | ECE2112 PA#1 | AUGUST 25, 2025"
   ]
  },
  {
   "cell_type": "code",
   "execution_count": null,
   "id": "4a3ecc3c-ca5d-4b40-9766-78c0a7741efd",
   "metadata": {},
   "outputs": [],
   "source": [
    "# ALPHABET SOUP PROBLEM: Create a function that takes a string and returns a string with its letters in alphabetical order."
   ]
  },
  {
   "cell_type": "code",
   "execution_count": 15,
   "id": "bf7897c1-09be-4d4e-83eb-b1e202e7c787",
   "metadata": {},
   "outputs": [
    {
     "name": "stdout",
     "output_type": "stream",
     "text": [
      "Welcome to the Word Sorter!\n",
      "Where we alphabetically arrange your words.\n",
      "\n",
      "Sorted word is:aklor"
     ]
    }
   ],
   "source": [
    "# 1. Alphabet Soup Problem\n",
    "\n",
    "def alphabet_soup(x): #Function to sort and print the word\n",
    "    y = [char for char in x] #Takes every letter of the string and makes it an array\n",
    "    y.sort() #Sorts array\n",
    "    i=0 \n",
    "    print(\"Sorted word is:\", end=\"\")  \n",
    "    while(i<len(y)): #While loop that prints every index of the array\n",
    "        print(y[i], end=\"\") #Print in a way that it doesn't add a new line\n",
    "        i+=1\n",
    "    \n",
    "print(\"Welcome to the Word Sorter!\") \n",
    "print(\"Where we alphabetically arrange your words.\")\n",
    "print(\"\")\n",
    "\n",
    "alphabet_soup(\"karol\") #Word to alphabetically arrange is \"karol\""
   ]
  },
  {
   "cell_type": "code",
   "execution_count": null,
   "id": "d019e772-82df-4f52-9b96-4e03b1c57006",
   "metadata": {},
   "outputs": [],
   "source": []
  },
  {
   "cell_type": "code",
   "execution_count": null,
   "id": "e466b958-218d-49a2-9513-b17587ef65dc",
   "metadata": {},
   "outputs": [],
   "source": [
    "#EMOTICON PROBLEM: Create a function that changes specific words into emoticons. Given a sentence as a string, replace the words smile, grin, sad and mad with their corresponding emoticon."
   ]
  },
  {
   "cell_type": "code",
   "execution_count": 9,
   "id": "72803f5f-ddde-4639-bb87-e830d6918b2a",
   "metadata": {},
   "outputs": [
    {
     "name": "stdout",
     "output_type": "stream",
     "text": [
      "Welcome to Emotify, where we emotify your sentences.\n",
      "\n",
      "Emotified Sentence: I am >:( but I have a :). You have a :D but you are :((.\n"
     ]
    }
   ],
   "source": [
    "# 2. Emoticon Problem\n",
    "\n",
    "def emotify(x): #Function to emotify (change certain words to emoticons)\n",
    "    sm = \"smile\" in x   #Checks to see if \"smile\" is in the string\n",
    "    if sm == True: \n",
    "        x = x.replace(\"smile\", \":)\") #If it's true then it replaces the word \"smile\" with \":)\"\n",
    "        \n",
    "    g = \"grin\" in x     #Checks to see if \"grin\" is in the string\n",
    "    if g == True:\n",
    "        x = x.replace(\"grin\", \":D\") #If it's true then it replaces the word \"grin\" with \":D\"\n",
    "        \n",
    "    sa = \"sad\" in x     #Checks to see if \"sad\" is in the string   \n",
    "    if sa == True:\n",
    "        x = x.replace(\"sad\", \":((\") #If it's true then it replaces the word \"sad\" with \":((\"\n",
    "\n",
    "    m = \"mad\" in x     #Checks to see if \"mad\" is in the string   \n",
    "    if m == True:\n",
    "        x = x.replace(\"mad\", \">:(\") #If it's true then it replaces the word \"mad\" with \">:(\"\n",
    "\n",
    "    print(\"Emotified Sentence: \" + x)\n",
    "\n",
    "\n",
    "print (\"Welcome to Emotify, where we emotify your sentences.\")\n",
    "print (\"\")\n",
    "emotify(\"I am mad but I have a smile. You have a grin but you are sad.\") #This is the sentence to emotify\n"
   ]
  },
  {
   "cell_type": "code",
   "execution_count": null,
   "id": "1c864c9d-192f-4868-b17b-cefffdca7507",
   "metadata": {},
   "outputs": [],
   "source": []
  },
  {
   "cell_type": "code",
   "execution_count": null,
   "id": "892cd1e1-e36f-45ce-936d-0292337554e6",
   "metadata": {},
   "outputs": [],
   "source": [
    "#UNPACKING LIST PROBLEM: Unpack the list writeyourcodehere into three variables, being first, middle, and last, with middle being everything in between the first and last element. Then print all three variables."
   ]
  },
  {
   "cell_type": "code",
   "execution_count": 10,
   "id": "73411354-f3f0-432a-8a6f-efb266dd4c9a",
   "metadata": {},
   "outputs": [
    {
     "name": "stdout",
     "output_type": "stream",
     "text": [
      "First:\n",
      "1\n",
      " \n",
      "Middle:\n",
      "[2, 3, 4, 5]\n",
      " \n",
      "Last:\n",
      "6\n"
     ]
    }
   ],
   "source": [
    "# 3. Unpacking List Problem\n",
    "\n",
    "writeyourcodehere = [1,2,3,4,5,6] #Array of numbers 1-6\n",
    "f = min(writeyourcodehere) #Set variable f as the minimum number which is 1\n",
    "l = max(writeyourcodehere) #Set variable l as the maximum number which is 6\n",
    "writeyourcodehere.remove(f) #Remove 1 from original array\n",
    "writeyourcodehere.remove(l) #Remove 6 from original array \n",
    "\n",
    "print(\"First:\")\n",
    "print(f) #Prints first element\n",
    "print(\" \")\n",
    "print(\"Middle:\")\n",
    "print (writeyourcodehere) #Prints middle elements\n",
    "print(\" \")\n",
    "print(\"Last:\") \n",
    "print(l) #Prints last element"
   ]
  },
  {
   "cell_type": "code",
   "execution_count": null,
   "id": "ae5ccdd2-5b59-4b3a-babe-402c52d9be94",
   "metadata": {},
   "outputs": [],
   "source": []
  }
 ],
 "metadata": {
  "kernelspec": {
   "display_name": "Python 3 (ipykernel)",
   "language": "python",
   "name": "python3"
  },
  "language_info": {
   "codemirror_mode": {
    "name": "ipython",
    "version": 3
   },
   "file_extension": ".py",
   "mimetype": "text/x-python",
   "name": "python",
   "nbconvert_exporter": "python",
   "pygments_lexer": "ipython3",
   "version": "3.13.5"
  }
 },
 "nbformat": 4,
 "nbformat_minor": 5
}
